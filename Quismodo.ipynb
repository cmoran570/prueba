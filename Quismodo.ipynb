{
  "nbformat": 4,
  "nbformat_minor": 0,
  "metadata": {
    "colab": {
      "provenance": [],
      "authorship_tag": "ABX9TyOUr7suOuprZNDJERKUv5/j",
      "include_colab_link": true
    },
    "kernelspec": {
      "name": "python3",
      "display_name": "Python 3"
    },
    "language_info": {
      "name": "python"
    }
  },
  "cells": [
    {
      "cell_type": "markdown",
      "metadata": {
        "id": "view-in-github",
        "colab_type": "text"
      },
      "source": [
        "<a href=\"https://colab.research.google.com/github/cmoran570/prueba/blob/master/Quismodo.ipynb\" target=\"_parent\"><img src=\"https://colab.research.google.com/assets/colab-badge.svg\" alt=\"Open In Colab\"/></a>"
      ]
    },
    {
      "cell_type": "markdown",
      "source": [
        "Cargando Librerias\n"
      ],
      "metadata": {
        "id": "qKaDn8fL1SHI"
      }
    },
    {
      "cell_type": "code",
      "source": [
        "!pip install pypdf==3.16.4 cohere tiktoken langchain==0.0.324 sentence-transformers==2.2.2 openai==0.28.1 pinecone-client==2.2.4 -q"
      ],
      "metadata": {
        "id": "AY5xapwbpmkL",
        "collapsed": true
      },
      "execution_count": 1,
      "outputs": []
    },
    {
      "cell_type": "code",
      "source": [
        "!pip show pinecone-client"
      ],
      "metadata": {
        "collapsed": true,
        "id": "iUpwp7JX1P4u"
      },
      "execution_count": null,
      "outputs": []
    },
    {
      "cell_type": "markdown",
      "source": [
        "Cargar y Guardar Documentos PDF"
      ],
      "metadata": {
        "id": "9ZBzuYsh4Qux"
      }
    },
    {
      "cell_type": "code",
      "source": [
        "import requests\n",
        "\n",
        "# Fichero PDF\n",
        "archivos_url = [\"https://preguntapdf.s3.eu-south-2.amazonaws.com/la-rosaleda_v3.pdf\",\n",
        "                \"https://preguntapdf.s3.eu-south-2.amazonaws.com/GuiaViajeMexicoDF.pdf\"]\n",
        "\n",
        "for url in archivos_url:\n",
        "    doc_to_download = requests.get(url)\n",
        "    # Guardar fichero\n",
        "    pdf_file = open(url.split(\"/\")[-1], \"wb\")\n",
        "    pdf_file.write(doc_to_download.content)"
      ],
      "metadata": {
        "id": "0QQNHNrC-nNI"
      },
      "execution_count": 2,
      "outputs": []
    },
    {
      "cell_type": "markdown",
      "source": [
        "1 Pinecone"
      ],
      "metadata": {
        "id": "2FRpibxH4jIq"
      }
    },
    {
      "cell_type": "code",
      "source": [
        "import pinecone\n",
        "from langchain.vectorstores import Pinecone"
      ],
      "metadata": {
        "id": "RGprpfuaBxQG",
        "colab": {
          "base_uri": "https://localhost:8080/"
        },
        "outputId": "0450ecab-8c72-419d-cb5c-bcd03630a64d",
        "collapsed": true
      },
      "execution_count": 3,
      "outputs": [
        {
          "output_type": "stream",
          "name": "stderr",
          "text": [
            "/usr/local/lib/python3.10/dist-packages/pinecone/index.py:4: TqdmExperimentalWarning: Using `tqdm.autonotebook.tqdm` in notebook mode. Use `tqdm.tqdm` instead to force console mode (e.g. in jupyter console)\n",
            "  from tqdm.autonotebook import tqdm\n"
          ]
        }
      ]
    },
    {
      "cell_type": "markdown",
      "source": [
        "#### A - Primeros pasos"
      ],
      "metadata": {
        "id": "EUGu_2ttfc4J"
      }
    },
    {
      "cell_type": "code",
      "execution_count": 4,
      "metadata": {
        "id": "bec7255b"
      },
      "outputs": [],
      "source": [
        "# Inicializar\n",
        "\n",
        "PINECONE_API_KEY = \"901b68ff-f539-403f-b895-ddfb960a115c\"\n",
        "PINECONE_ENV = \"us-east1-gcp\"\n",
        "INDEX_NAME = 'taller'\n",
        "\n",
        "pinecone.init(\n",
        "    api_key=PINECONE_API_KEY,\n",
        "    environment=PINECONE_ENV\n",
        ")"
      ]
    },
    {
      "cell_type": "code",
      "source": [
        "pinecone.list_indexes()"
      ],
      "metadata": {
        "colab": {
          "base_uri": "https://localhost:8080/"
        },
        "outputId": "e4815bb3-3206-4de2-f819-d4af5f1928d3",
        "id": "n35zoa4K_bc5"
      },
      "execution_count": 5,
      "outputs": [
        {
          "output_type": "execute_result",
          "data": {
            "text/plain": [
              "[]"
            ]
          },
          "metadata": {},
          "execution_count": 5
        }
      ]
    },
    {
      "cell_type": "code",
      "source": [
        "# Describe Index\n",
        "index_description = pinecone.describe_index(INDEX_NAME)"
      ],
      "metadata": {
        "id": "3a0jY9h8xlrL"
      },
      "execution_count": null,
      "outputs": []
    },
    {
      "cell_type": "code",
      "source": [
        "index_description.name\n",
        "index_description.dimension\n",
        "index_description.metric"
      ],
      "metadata": {
        "id": "LPQyfsB1xgh5"
      },
      "execution_count": null,
      "outputs": []
    },
    {
      "cell_type": "markdown",
      "source": [
        "#### B - Cargar Vectores"
      ],
      "metadata": {
        "id": "pD_PTp-afpvR"
      }
    },
    {
      "cell_type": "code",
      "source": [
        "import numpy as np"
      ],
      "metadata": {
        "id": "zH7qPy93ws72"
      },
      "execution_count": null,
      "outputs": []
    },
    {
      "cell_type": "code",
      "source": [
        "vector_1 = np.random.uniform(-1, 1,384).tolist()\n",
        "vector_2 = np.random.uniform(-1, 1,384).tolist()"
      ],
      "metadata": {
        "id": "IL_MNqvgwuMn"
      },
      "execution_count": null,
      "outputs": []
    },
    {
      "cell_type": "code",
      "source": [
        "index = pinecone.Index(INDEX_NAME)"
      ],
      "metadata": {
        "id": "a4flADv_tAuQ"
      },
      "execution_count": null,
      "outputs": []
    },
    {
      "cell_type": "code",
      "source": [
        "upsert_response = index.upsert(\n",
        "   vectors=[\n",
        "       {'id': \"vec1\", \"values\":vector_1, \"metadata\": {'genre': 'cine'}},\n",
        "       {'id': \"vec2\", \"values\":vector_2, \"metadata\": {'genre': 'teatro'}},\n",
        "   ]\n",
        ")"
      ],
      "metadata": {
        "id": "-4fKuzZ_JeBz"
      },
      "execution_count": null,
      "outputs": []
    },
    {
      "cell_type": "markdown",
      "source": [
        "#### C - Buscar vectores"
      ],
      "metadata": {
        "id": "k8nZadUquEFz"
      }
    },
    {
      "cell_type": "code",
      "source": [
        "vector_pregunta = np.random.uniform(-1, 1,384).tolist()"
      ],
      "metadata": {
        "id": "B3r3wee3wYem"
      },
      "execution_count": null,
      "outputs": []
    },
    {
      "cell_type": "code",
      "source": [
        "result = index.query(queries=[vector_pregunta], top_k=1)\n",
        "print(result)"
      ],
      "metadata": {
        "id": "cCvle2MluHAK",
        "colab": {
          "base_uri": "https://localhost:8080/"
        },
        "outputId": "02eaeb78-4823-4aef-c2b8-fecf81d7cc47"
      },
      "execution_count": null,
      "outputs": [
        {
          "output_type": "stream",
          "name": "stdout",
          "text": [
            "{'results': [{'matches': [{'id': 'vec1', 'score': 0.00472536357, 'values': []}],\n",
            "              'namespace': ''}]}\n"
          ]
        }
      ]
    },
    {
      "cell_type": "markdown",
      "source": [
        "#### D - Borrar"
      ],
      "metadata": {
        "id": "nteB9EPhf38q"
      }
    },
    {
      "cell_type": "code",
      "source": [
        "index.delete(\n",
        "    filter={\n",
        "        \"genre\": \"cine\"\n",
        "    }\n",
        ")"
      ],
      "metadata": {
        "id": "jP4hVAyCxyDq",
        "colab": {
          "base_uri": "https://localhost:8080/"
        },
        "outputId": "8be628ea-82e3-4a4b-dd65-56b3c79cdf5f"
      },
      "execution_count": null,
      "outputs": [
        {
          "output_type": "execute_result",
          "data": {
            "text/plain": [
              "{}"
            ]
          },
          "metadata": {},
          "execution_count": 21
        }
      ]
    },
    {
      "cell_type": "code",
      "source": [
        "# borrar todos los vectores\n",
        "index.delete(delete_all=True)"
      ],
      "metadata": {
        "id": "UMu1SKYUxv-X",
        "colab": {
          "base_uri": "https://localhost:8080/"
        },
        "outputId": "d3b6fb9b-4314-4f10-ee7e-141896f16dd7"
      },
      "execution_count": null,
      "outputs": [
        {
          "output_type": "execute_result",
          "data": {
            "text/plain": [
              "{}"
            ]
          },
          "metadata": {},
          "execution_count": 49
        }
      ]
    },
    {
      "cell_type": "markdown",
      "metadata": {
        "id": "1716d260"
      },
      "source": [
        "### 2 -Leer PDF"
      ]
    },
    {
      "cell_type": "code",
      "execution_count": null,
      "metadata": {
        "id": "2fd7b9a3"
      },
      "outputs": [],
      "source": [
        "from langchain.document_loaders import PyPDFLoader"
      ]
    },
    {
      "cell_type": "code",
      "execution_count": null,
      "metadata": {
        "id": "5bf74a57"
      },
      "outputs": [],
      "source": [
        "# Cargar fichero PDF\n",
        "# FILE = 'GuiaViajeMexicoDF.pdf'\n",
        "FILE = \"la-rosaleda_v3.pdf\""
      ]
    },
    {
      "cell_type": "code",
      "execution_count": null,
      "metadata": {
        "id": "5ab137e9"
      },
      "outputs": [],
      "source": [
        "# trabajaremos con documents y no text\n",
        "loader = PyPDFLoader(FILE)\n",
        "doc = loader.load()"
      ]
    },
    {
      "cell_type": "markdown",
      "metadata": {
        "id": "eedad398"
      },
      "source": [
        "### 3 - Crear chunks"
      ]
    },
    {
      "cell_type": "code",
      "execution_count": null,
      "metadata": {
        "id": "322ab042"
      },
      "outputs": [],
      "source": [
        "from langchain.text_splitter import RecursiveCharacterTextSplitter"
      ]
    },
    {
      "cell_type": "code",
      "execution_count": null,
      "metadata": {
        "id": "a6fb4cce"
      },
      "outputs": [],
      "source": [
        "text_splitter = RecursiveCharacterTextSplitter(\n",
        "    chunk_size=800,\n",
        "    chunk_overlap=100,\n",
        "    length_function=len\n",
        "    )"
      ]
    },
    {
      "cell_type": "code",
      "execution_count": null,
      "metadata": {
        "id": "4d935c0c"
      },
      "outputs": [],
      "source": [
        "# split_documents y no text\n",
        "chunks = text_splitter.split_documents(doc)"
      ]
    },
    {
      "cell_type": "code",
      "source": [
        "len(chunks)"
      ],
      "metadata": {
        "id": "2rM5VU_3fzSs",
        "colab": {
          "base_uri": "https://localhost:8080/"
        },
        "outputId": "1cb7953f-8bc4-471c-bfbc-d34f5a1927da"
      },
      "execution_count": null,
      "outputs": [
        {
          "output_type": "execute_result",
          "data": {
            "text/plain": [
              "7"
            ]
          },
          "metadata": {},
          "execution_count": 29
        }
      ]
    },
    {
      "cell_type": "code",
      "source": [
        "def create_chunks(doc_to_chunk):\n",
        "    text_splitter = RecursiveCharacterTextSplitter(\n",
        "        chunk_size=800,\n",
        "        chunk_overlap=100,\n",
        "        length_function=len\n",
        "        )\n",
        "    return text_splitter.split_documents(doc_to_chunk)"
      ],
      "metadata": {
        "id": "dTIOYz9DB0XZ"
      },
      "execution_count": null,
      "outputs": []
    },
    {
      "cell_type": "markdown",
      "metadata": {
        "id": "6eac2867"
      },
      "source": [
        "### 4 - Embeddings"
      ]
    },
    {
      "cell_type": "code",
      "execution_count": null,
      "metadata": {
        "id": "d6283c4e"
      },
      "outputs": [],
      "source": [
        "from langchain.embeddings import HuggingFaceEmbeddings"
      ]
    },
    {
      "cell_type": "code",
      "execution_count": null,
      "metadata": {
        "id": "467e2074",
        "colab": {
          "base_uri": "https://localhost:8080/",
          "height": 36
        },
        "outputId": "7c99fe56-cd08-407d-a2d3-122580d72709"
      },
      "outputs": [
        {
          "output_type": "execute_result",
          "data": {
            "text/plain": [
              "'sentence-transformers/paraphrase-multilingual-mpnet-base-v2'"
            ],
            "application/vnd.google.colaboratory.intrinsic+json": {
              "type": "string"
            }
          },
          "metadata": {},
          "execution_count": 31
        }
      ],
      "source": [
        "'sentence-transformers/paraphrase-multilingual-MiniLM-L12-v2' # 471M\n",
        "'sentence-transformers/paraphrase-multilingual-mpnet-base-v2' #1.11G"
      ]
    },
    {
      "cell_type": "code",
      "execution_count": null,
      "metadata": {
        "id": "4ca0b228",
        "colab": {
          "base_uri": "https://localhost:8080/",
          "height": 433,
          "referenced_widgets": [
            "967b31f60992454b99f5c68dc55bcf30",
            "3f908e909c2e40e2b43335e751b38bb3",
            "0319a0c144ee4ce184ae52c4c99e56a4",
            "fa9614ddda6e4d75a1d4a8caf1d52e65",
            "58e97d1c61a0435780068e2dfc612254",
            "a1c803c33e324f3eae6ed3e3d46445c7",
            "556379e2d521469380ecdfb107c7c76a",
            "f2dddd20391b491381919ef21c2c011f",
            "63dde3565e9049f690917a506cbf948f",
            "4e6024eb85b3472db897856430c2c0bf",
            "79c79f9c701646c3a2bf7c4a1fda23f3",
            "100372b053814dfc87c31d1032396f6d",
            "45545df3ca164203b539d7347ed044d3",
            "820ddf9724ec4e789012c0386dfb64b6",
            "dc6d461db6ae41b2b930f5179613888b",
            "067db5776d1d4f4aa4d6ca34087c2bb8",
            "d2d4f974971c471793d2529ed7cb1cb5",
            "0c89974f4ad54252bacab4cd6cced28b",
            "8287c826efb24926a4e6cb09c8c275e2",
            "0a44ffc1b7f549089e617e5774750712",
            "20d4d892fe104efd9f2355608d9a1290",
            "1c77d9b1abca4d8a8c608adb2b6d0e78",
            "ebc6254a4dbf48c7b89ee5a510c28b57",
            "cd4bb2c4885546a8b97537338fc82c76",
            "7d09071f5ac14ef6802f1315c2ce4e88",
            "2097672744444c25a583c19a277afd18",
            "fff55aa8495940a2a473513b0d3ab50f",
            "826666e41691472a9a1a33990400be7a",
            "6d8d8624b06c4671a0b8e5e2fa2bf789",
            "232a3bc9bfb4489195cd9df340371dfb",
            "346867adeb064036aa41fcd96f32b727",
            "0268ebf658014ef28f86e05b6be0f8e7",
            "7310c37d81f54a8c9a4f5aa2e421c533",
            "6cb7654214074d53b8a5febf73e8b633",
            "572be85e18014545b4528ebc773e5baa",
            "6974cbf613954e52b795b7fe7a1a181e",
            "5e11c23169114eab88eac182b95e88fd",
            "b6976a085d50479087007d292038bf6e",
            "da59f03e6a064914b4d76608d7dc1a61",
            "d108650c509c447cba9bd1a43d0dc259",
            "bfead92a7ddd4103bd0981787cb0e4af",
            "7d501aa708aa44db870ba44fe0f596e9",
            "1a421f5bda784114ad449a92e01ab599",
            "db824533a4c44243a59db4892858eb16",
            "f2ffced5b1164b2b850c380100fc6b03",
            "d0dae9efbda84cfca68636b9dafba87f",
            "9376dfb9da744b56a58a6d580f006839",
            "f91dbcb19df64b9f831cd5c4c66c051a",
            "983bdf57a0cf4d859d1cbf2acb8e7780",
            "c37a1aaf9318480ca7ee2a105f2584b2",
            "21b0ae101fa345d2a2a85fa68f48a670",
            "7965405a8adb4d9eb8b0e3b7b2c3cbcf",
            "8d25f8cde8eb4efb9e34694cd2006ed2",
            "b8f63e3377f54696a9a755f13a7998e8",
            "87286cb6df7a4962b1bf157b18acadea",
            "268829e89633413fb95f3c4127010406",
            "0295ce533d06442ea3c173588df617fc",
            "506128741edd4280a81320bceea8bcd7",
            "0601a83d6e0140018108ef5817309c2d",
            "b0efb05446c54e3da46d229b40655b4b",
            "2aaa7eedde824ab9b7f4dd1c459200f8",
            "f69f08af21534a9e82ec9e36207de86c",
            "51f62c59c2754c4ab9c355327a0ec4d8",
            "fd633770e98846b591feaface55c29de",
            "909b9e2929cc4913a4a36726494454ea",
            "d55b3de68d75419cb87df4c9bbc2c8e0",
            "f5d985b6a849478db62a86a6400c4b37",
            "b8040044f65543ce9faa52b83c765bec",
            "47de8ce139fc4b02970f99dffdb5c33c",
            "ce2f3f685f524022a91d5d652cc8e8e0",
            "6c002776300944519edc0eeb944b56ae",
            "9a3b9a8ee72546d8a49e9dba7bfbe765",
            "9101c0ccfdea451b87ee962b28bca978",
            "18abbe86adbf47d48c5d2e7fb0bb356e",
            "df80a4499f9a4fd3834db0b1e5db5642",
            "be9c3cea9c674279b5b2c3c41b1706f0",
            "d16d88b568a94709b958f79dd0ab5029",
            "a6b42c18e076467c89248dfa303f6fb9",
            "dabe8155711442edaccdaa5a830319d0",
            "930b2c88eb76436b8f9cc22b1f52bf76",
            "248c58f5f93b45a99173773792ddec26",
            "bc4b50e94b6540b5b54fe6a982735110",
            "472f1e47fa68468c95ce34e27a93b429",
            "587488b8f3bc4dd1aebc41d6d7f0377d",
            "1ab33da7067b49ad970cc4a66df98f1d",
            "7094cad972c14812888505bb839952cb",
            "8bc9c3a8313949918ef260b4f1a58b15",
            "79ab7876d06c4282875753d33b94302e",
            "43abdd8199514e8cb89bfc60f06bb235",
            "a9b3f6d2e634419680f470830cf699dc",
            "1986817379c2498382ca04a0f9a27851",
            "4d7fe639ac444c9b9e1300e8b6ea09ca",
            "8f04f1d50cb24cefb1725a64da48d8ec",
            "31ebf7f4d8b342579867171ddf41083e",
            "c4f66c8f69844e9084eff747e9f6a7c7",
            "078de1fa002444b8aa2cce8af0210b31",
            "2d0ccf1763964085a0896b0e7e343af9",
            "29be7b1a1a274b6184157e39bbe0ae66",
            "7e90433621c24a0a8604eb9009a13281",
            "961f952f31d84e43ab44527feaffcc94",
            "ad0aeb53dc0d41f1ab83aef2770851bf",
            "8ac386c4f1db4f38b6e5e73d229eada1",
            "320c1cd53a8743debc3ff7bc600cd1ec",
            "a7c602d7cfab43f88d86ba4667433498",
            "a676976aae17462f8caa1050935adbb9",
            "3252b580414d4ff18017b4308abcb686",
            "6527c845ab81486cbd958dbb280f6235",
            "e6336539d366452295ce4c815fee6be6",
            "946cb31a479c42d5bcbea97a910b74ba",
            "cf6da0fa344d432099109d73ca91f790",
            "bcf610f440434ec9bbd2c940da3385da",
            "b5de8d5a081d48a2bf7f1f228a987843",
            "8a21df527552429298c423d5aef2a8f8",
            "575f124040ad4488bb53542d088e0a8a",
            "93324d6a35b64a51b8520f2e7f1b917e",
            "fa1f1f6b9f38497ca3a7d9330b3daf9f",
            "ac7ce4a5c368422087d0f6b9fa01ffaf",
            "e99bf2619df243d48dd40a3d2e3d975a",
            "7886063a6cfd46c69062baa12f16206e",
            "d18be6b0f1434c58a2c8368795d59379",
            "0f8c7a5be9a9445cb1b1cc28e1d8e2eb",
            "284e0ffe60fa43d7bf09941921b8282b",
            "7acde39458ab4af49271ea7bdcccadee",
            "4b440912f612481daba8f696875062c7",
            "d5357ea9a69f4ad99606f55b35b5704a",
            "d8978edf636e4076807f0d63d2255191",
            "4d3b1e151b1f417e8734130216d753ab",
            "caae8d79405b444b837de31659b074c6",
            "26e366b596eb45059ef579a1cb362cad",
            "d891c5dea2eb4b1fab5721e3709f2fe5",
            "29b0d71c13884d40b20b85c4c8b9efb1",
            "94b32bac6a794fdb99c5d99315fc53be",
            "cab8755d9011401fbab64c65fca06a73",
            "e09f43df480d409a8706e54b7dfcd1b1",
            "038365266c8a4b7caea197722b2ed63c",
            "c89b742a7a644378b72cc022d17267d0",
            "bc478e8691424ae482ab9e318d2f9989",
            "47a5ec4975cf475980532c43aaf6b6b8",
            "46bf388ca19a4281a08f33f23f95c5eb",
            "4e76fdd297f94762956df8696c0b6264",
            "f2c29fe872014f75be8c3bb50482a25d",
            "7b1fbbf5a3dc4e0dba63b5b4daf093b3",
            "60629c9efe724ec3bc5aff9bbc3e8409"
          ]
        },
        "outputId": "e19235c1-ff53-48f1-e6f6-b7b01734752e"
      },
      "outputs": [
        {
          "output_type": "display_data",
          "data": {
            "text/plain": [
              "Downloading (…)0fe39/.gitattributes:   0%|          | 0.00/968 [00:00<?, ?B/s]"
            ],
            "application/vnd.jupyter.widget-view+json": {
              "version_major": 2,
              "version_minor": 0,
              "model_id": "967b31f60992454b99f5c68dc55bcf30"
            }
          },
          "metadata": {}
        },
        {
          "output_type": "display_data",
          "data": {
            "text/plain": [
              "Downloading (…)_Pooling/config.json:   0%|          | 0.00/190 [00:00<?, ?B/s]"
            ],
            "application/vnd.jupyter.widget-view+json": {
              "version_major": 2,
              "version_minor": 0,
              "model_id": "100372b053814dfc87c31d1032396f6d"
            }
          },
          "metadata": {}
        },
        {
          "output_type": "display_data",
          "data": {
            "text/plain": [
              "Downloading (…)83e900fe39/README.md:   0%|          | 0.00/3.79k [00:00<?, ?B/s]"
            ],
            "application/vnd.jupyter.widget-view+json": {
              "version_major": 2,
              "version_minor": 0,
              "model_id": "ebc6254a4dbf48c7b89ee5a510c28b57"
            }
          },
          "metadata": {}
        },
        {
          "output_type": "display_data",
          "data": {
            "text/plain": [
              "Downloading (…)e900fe39/config.json:   0%|          | 0.00/645 [00:00<?, ?B/s]"
            ],
            "application/vnd.jupyter.widget-view+json": {
              "version_major": 2,
              "version_minor": 0,
              "model_id": "6cb7654214074d53b8a5febf73e8b633"
            }
          },
          "metadata": {}
        },
        {
          "output_type": "display_data",
          "data": {
            "text/plain": [
              "Downloading (…)ce_transformers.json:   0%|          | 0.00/122 [00:00<?, ?B/s]"
            ],
            "application/vnd.jupyter.widget-view+json": {
              "version_major": 2,
              "version_minor": 0,
              "model_id": "f2ffced5b1164b2b850c380100fc6b03"
            }
          },
          "metadata": {}
        },
        {
          "output_type": "display_data",
          "data": {
            "text/plain": [
              "Downloading pytorch_model.bin:   0%|          | 0.00/471M [00:00<?, ?B/s]"
            ],
            "application/vnd.jupyter.widget-view+json": {
              "version_major": 2,
              "version_minor": 0,
              "model_id": "268829e89633413fb95f3c4127010406"
            }
          },
          "metadata": {}
        },
        {
          "output_type": "display_data",
          "data": {
            "text/plain": [
              "Downloading (…)nce_bert_config.json:   0%|          | 0.00/53.0 [00:00<?, ?B/s]"
            ],
            "application/vnd.jupyter.widget-view+json": {
              "version_major": 2,
              "version_minor": 0,
              "model_id": "f5d985b6a849478db62a86a6400c4b37"
            }
          },
          "metadata": {}
        },
        {
          "output_type": "display_data",
          "data": {
            "text/plain": [
              "Downloading (…)tencepiece.bpe.model:   0%|          | 0.00/5.07M [00:00<?, ?B/s]"
            ],
            "application/vnd.jupyter.widget-view+json": {
              "version_major": 2,
              "version_minor": 0,
              "model_id": "a6b42c18e076467c89248dfa303f6fb9"
            }
          },
          "metadata": {}
        },
        {
          "output_type": "display_data",
          "data": {
            "text/plain": [
              "Downloading (…)cial_tokens_map.json:   0%|          | 0.00/239 [00:00<?, ?B/s]"
            ],
            "application/vnd.jupyter.widget-view+json": {
              "version_major": 2,
              "version_minor": 0,
              "model_id": "43abdd8199514e8cb89bfc60f06bb235"
            }
          },
          "metadata": {}
        },
        {
          "output_type": "display_data",
          "data": {
            "text/plain": [
              "Downloading tokenizer.json:   0%|          | 0.00/9.08M [00:00<?, ?B/s]"
            ],
            "application/vnd.jupyter.widget-view+json": {
              "version_major": 2,
              "version_minor": 0,
              "model_id": "961f952f31d84e43ab44527feaffcc94"
            }
          },
          "metadata": {}
        },
        {
          "output_type": "display_data",
          "data": {
            "text/plain": [
              "Downloading (…)okenizer_config.json:   0%|          | 0.00/480 [00:00<?, ?B/s]"
            ],
            "application/vnd.jupyter.widget-view+json": {
              "version_major": 2,
              "version_minor": 0,
              "model_id": "bcf610f440434ec9bbd2c940da3385da"
            }
          },
          "metadata": {}
        },
        {
          "output_type": "display_data",
          "data": {
            "text/plain": [
              "Downloading unigram.json:   0%|          | 0.00/14.8M [00:00<?, ?B/s]"
            ],
            "application/vnd.jupyter.widget-view+json": {
              "version_major": 2,
              "version_minor": 0,
              "model_id": "284e0ffe60fa43d7bf09941921b8282b"
            }
          },
          "metadata": {}
        },
        {
          "output_type": "display_data",
          "data": {
            "text/plain": [
              "Downloading (…)900fe39/modules.json:   0%|          | 0.00/229 [00:00<?, ?B/s]"
            ],
            "application/vnd.jupyter.widget-view+json": {
              "version_major": 2,
              "version_minor": 0,
              "model_id": "cab8755d9011401fbab64c65fca06a73"
            }
          },
          "metadata": {}
        }
      ],
      "source": [
        "embeddings = HuggingFaceEmbeddings(model_name=\"sentence-transformers/paraphrase-multilingual-MiniLM-L12-v2\")"
      ]
    },
    {
      "cell_type": "code",
      "source": [
        "from sentence_transformers import SentenceTransformer\n",
        "\n",
        "model = SentenceTransformer('sentence-transformers/paraphrase-multilingual-MiniLM-L12-v2')\n",
        "sentence_embeddings = model.encode(\"¿Cuántas copas ha ganado el Málaga CF?\")"
      ],
      "metadata": {
        "id": "S8Q0ld4906d4"
      },
      "execution_count": null,
      "outputs": []
    },
    {
      "cell_type": "code",
      "source": [
        "# sentence_embeddings"
      ],
      "metadata": {
        "id": "1frWKFVjCH07"
      },
      "execution_count": null,
      "outputs": []
    },
    {
      "cell_type": "code",
      "source": [
        "len(sentence_embeddings)"
      ],
      "metadata": {
        "id": "gvi7dxmd07Za",
        "colab": {
          "base_uri": "https://localhost:8080/"
        },
        "outputId": "3f488d1d-f7f5-4a47-f470-fc2a19f2751f"
      },
      "execution_count": null,
      "outputs": [
        {
          "output_type": "execute_result",
          "data": {
            "text/plain": [
              "384"
            ]
          },
          "metadata": {},
          "execution_count": 36
        }
      ]
    },
    {
      "cell_type": "code",
      "source": [
        "Pinecone.from_documents(\n",
        "    chunks,\n",
        "    embeddings,\n",
        "    index_name=INDEX_NAME)"
      ],
      "metadata": {
        "id": "QBW4VJFez5-4",
        "colab": {
          "base_uri": "https://localhost:8080/"
        },
        "outputId": "0e97b448-aefc-4928-be10-47978e33d2eb"
      },
      "execution_count": null,
      "outputs": [
        {
          "output_type": "execute_result",
          "data": {
            "text/plain": [
              "<langchain.vectorstores.pinecone.Pinecone at 0x78aaf7da5540>"
            ]
          },
          "metadata": {},
          "execution_count": 37
        }
      ]
    },
    {
      "cell_type": "markdown",
      "source": [
        "### 5 - Preguntar al documento"
      ],
      "metadata": {
        "id": "D0kpfqkr91vh"
      }
    },
    {
      "cell_type": "code",
      "source": [
        "import os\n",
        "os.environ[\"OPENAI_API_KEY\"] = \"OPENAI_API_KEY\""
      ],
      "metadata": {
        "id": "pFoOAU9iB0AU"
      },
      "execution_count": null,
      "outputs": []
    },
    {
      "cell_type": "code",
      "execution_count": null,
      "metadata": {
        "id": "1298ac45"
      },
      "outputs": [],
      "source": [
        "from langchain.chat_models import ChatOpenAI\n",
        "from langchain.chains.question_answering import load_qa_chain"
      ]
    },
    {
      "cell_type": "code",
      "execution_count": null,
      "metadata": {
        "id": "97421462"
      },
      "outputs": [],
      "source": [
        "vstore = Pinecone.from_existing_index(INDEX_NAME, embeddings)\n",
        "\n",
        "llm = ChatOpenAI(model_name='gpt-3.5-turbo')\n",
        "chain = load_qa_chain(llm, chain_type=\"stuff\")"
      ]
    },
    {
      "cell_type": "code",
      "source": [
        "pregunta = \"¿Cuántas copas ha ganado el Málaga?\"\n",
        "# pregunta = \"¿Dónde está ubicado el monumento a la revolución?\"\n",
        "pregunta = \"¿Cuántos habitantes hay en la ciudad de México?\""
      ],
      "metadata": {
        "id": "Tnxdva5mzB6k"
      },
      "execution_count": null,
      "outputs": []
    },
    {
      "cell_type": "code",
      "execution_count": null,
      "metadata": {
        "id": "6b0eb821",
        "colab": {
          "base_uri": "https://localhost:8080/"
        },
        "outputId": "8a906ea7-73fd-4731-8c70-2f554adbc477"
      },
      "outputs": [
        {
          "output_type": "stream",
          "name": "stdout",
          "text": [
            "Respuesta ChatGPT: En México viven 20 millones de personas.\n"
          ]
        }
      ],
      "source": [
        "# Busqueda de párrafos similares\n",
        "docs = vstore.similarity_search(pregunta, 3)\n",
        "# Utilizar los parrafos similares para darle contexto a ChatGPT\n",
        "respuesta = chain.run(input_documents=docs, question=pregunta)\n",
        "print(f\"Respuesta ChatGPT: {respuesta}\")"
      ]
    },
    {
      "cell_type": "markdown",
      "source": [
        "Añadir vectores"
      ],
      "metadata": {
        "id": "Wje7VxHV1nr9"
      }
    },
    {
      "cell_type": "code",
      "source": [
        "res = vstore.from_texts(\n",
        "    [\"En la Ciudad de México viven 20 millones de personas\"],\n",
        "    embeddings,\n",
        "    metadatas=[{'doc':'deporte'}],\n",
        "    index_name=INDEX_NAME)"
      ],
      "metadata": {
        "id": "PVnkOQZW1nRz"
      },
      "execution_count": null,
      "outputs": []
    },
    {
      "cell_type": "markdown",
      "metadata": {
        "id": "5e7d2448"
      },
      "source": [
        "Revisar Costes"
      ]
    },
    {
      "cell_type": "code",
      "execution_count": null,
      "metadata": {
        "id": "10a8f37e"
      },
      "outputs": [],
      "source": [
        "from langchain.callbacks import get_openai_callback"
      ]
    },
    {
      "cell_type": "code",
      "execution_count": null,
      "metadata": {
        "id": "b90e7535",
        "colab": {
          "base_uri": "https://localhost:8080/"
        },
        "outputId": "22b0ba3a-e074-4558-d57a-8d89cab326a1"
      },
      "outputs": [
        {
          "output_type": "stream",
          "name": "stdout",
          "text": [
            "Tokens Used: 531\n",
            "\tPrompt Tokens: 521\n",
            "\tCompletion Tokens: 10\n",
            "Successful Requests: 1\n",
            "Total Cost (USD): $0.0008015000000000001\n"
          ]
        }
      ],
      "source": [
        "with get_openai_callback() as cb:\n",
        "    response = chain.run(input_documents=docs, question=pregunta)\n",
        "    print(cb)"
      ]
    }
  ]
}